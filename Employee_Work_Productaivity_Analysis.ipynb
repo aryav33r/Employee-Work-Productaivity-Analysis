{
  "nbformat": 4,
  "nbformat_minor": 0,
  "metadata": {
    "colab": {
      "provenance": []
    },
    "kernelspec": {
      "name": "python3",
      "display_name": "Python 3"
    },
    "language_info": {
      "name": "python"
    }
  },
  "cells": [
    {
      "cell_type": "markdown",
      "source": [
        "1. Top 5 Productive Employees\n",
        "a. SORT and FILTER Method:\n",
        "\n",
        "Steps:\n",
        "\n",
        "Use SORT function to arrange employees by Productivity_Score in descending order.\n",
        "\n",
        "Apply FILTER to extract the top 5 rows.\n",
        "Formula (Excel/Google Sheets):"
      ],
      "metadata": {
        "id": "ErE5TCyzP8QU"
      }
    },
    {
      "cell_type": "code",
      "source": [
        "=SORT(FILTER(A2:G26, G2:G26<>\"\"), 6, -1)"
      ],
      "metadata": {
        "id": "rv3ge-j4P892"
      },
      "execution_count": null,
      "outputs": []
    },
    {
      "cell_type": "markdown",
      "source": [
        "Output: A table showing Employee_ID, Name, Department, and Productivity_Score of the top 5.\n",
        "\n",
        "b. Bar Chart Visualization:\n",
        "\n",
        "Steps:\n",
        "\n",
        "1.Select the top 5 employees' names and productivity scores.\n",
        "\n",
        "2.Insert a bar chart with names on the X-axis and scores on the Y-axis.\n",
        "Insight: Visually compare productivity leaders (e.g., \"Employee X\" with a score of 95).\n",
        "\n",
        "\n",
        "2.Department-Wise Productivity Consistency\n",
        "Objective: Find the department with the least variation in productivity.\n",
        "\n",
        "Steps:\n",
        "\n",
        "1.Create a PivotTable grouped by Department.\n",
        "\n",
        "2.Use STDEV.P on Productivity_Score for each department.\n",
        "Formula:"
      ],
      "metadata": {
        "id": "pKWN0aH1P_z6"
      }
    },
    {
      "cell_type": "code",
      "source": [
        "=STDEV.P(IF(Department=\"Sales\", Productivity_Score))"
      ],
      "metadata": {
        "id": "hJPuWw0KQeRT"
      },
      "execution_count": null,
      "outputs": []
    },
    {
      "cell_type": "markdown",
      "source": [
        "Insight:\n",
        "\n",
        "Least variation: Department with the lowest standard deviation (e.g., \"IT\" with σ=2.1).\n",
        "\n",
        "3.Productivity Efficiency Index (PEI)\n",
        "Formula:\n",
        "\n",
        "P\n",
        "E\n",
        "I\n",
        "=\n",
        "Productivity_Score\n",
        "×\n",
        "Performance_Rating\n",
        "Hours_Worked\n",
        "PEI=\n",
        "Hours_Worked\n",
        "Productivity_Score×Performance_Rating\n",
        "​\n",
        "\n",
        "Steps:\n",
        "\n",
        "1.Add a new column PEI using the formula above.\n",
        "2.Rank employees using RANK.EQ or SORT:"
      ],
      "metadata": {
        "id": "J1STW8a2Qg4t"
      }
    },
    {
      "cell_type": "code",
      "source": [
        "=SORT(A2:G26, PEI_column, -1)"
      ],
      "metadata": {
        "id": "csh1sAFyQuug"
      },
      "execution_count": null,
      "outputs": []
    },
    {
      "cell_type": "markdown",
      "source": [
        "Top 3 Employees:\n",
        "\n",
        "Names, PEI values, and departments (e.g., \"John Doe,\" PEI=8.5, Marketing).\n",
        "\n",
        "4.Correlation Analysis\n",
        "a. Performance Rating Drivers:\n",
        "\n",
        "Correlation Formula:"
      ],
      "metadata": {
        "id": "osVmTzu8QxAP"
      }
    },
    {
      "cell_type": "code",
      "source": [
        "=CORREL(Performance_Rating, Hours_Worked)\n",
        "=CORREL(Performance_Rating, Tasks_Completed)"
      ],
      "metadata": {
        "id": "PAYkBx4oQ2qf"
      },
      "execution_count": null,
      "outputs": []
    },
    {
      "cell_type": "markdown",
      "source": [
        "Result:\n",
        "\n",
        "Stronger correlation indicates greater influence (e.g., Tasks_Completed (r=0.7) > Hours_Worked (r=0.3)).\n",
        "\n",
        "b. Work Hours vs. Productivity:\n",
        "\n",
        "Scatter Plot:\n",
        "\n",
        "X-axis: Hours_Worked\n",
        "\n",
        "Y-axis: Productivity_Score\n",
        "Insight:\n",
        "\n",
        "Positive correlation (r=0.6): More hours → Higher productivity (but check for diminishing returns).\n",
        "\n",
        "\n",
        "5.Underutilized High Performers\n",
        "Criteria:\n",
        "\n",
        "Performance_Rating ≥ 4\n",
        "\n",
        "Hours_Worked < Average hours.\n",
        "Formula:"
      ],
      "metadata": {
        "id": "BH0duYE3Q4_t"
      }
    },
    {
      "cell_type": "code",
      "source": [
        "=FILTER(A2:G26, (Performance_Rating>=4) * (Hours_Worked < AVERAGE(Hours_Worked)))"
      ],
      "metadata": {
        "id": "gQWwgaFVRH4U"
      },
      "execution_count": null,
      "outputs": []
    },
    {
      "cell_type": "markdown",
      "source": [
        "Output:\n",
        "\n",
        "List of employees (e.g., \"Jane Smith,\" Rating=4.5, Hours=32 vs. Avg=40).\n",
        "Insight: High performers working fewer hours may handle more responsibilities.\n",
        "\n",
        "6.Tasks per Hour Efficiency\n",
        "New Column Formula:"
      ],
      "metadata": {
        "id": "kbvCmI-uRLu6"
      }
    },
    {
      "cell_type": "code",
      "source": [
        "Tasks_per_Hour = Tasks_Completed / Hours_Worked"
      ],
      "metadata": {
        "id": "I9zd7JLZRRUc"
      },
      "execution_count": null,
      "outputs": []
    },
    {
      "cell_type": "code",
      "source": [
        "=INDEX(Name, MATCH(MAX(Tasks_per_Hour), Tasks_per_Hour, 0))"
      ],
      "metadata": {
        "id": "4ZHsyWJgRUml"
      },
      "execution_count": null,
      "outputs": []
    },
    {
      "cell_type": "markdown",
      "source": [
        "Output:\n",
        "\n",
        "Name, Tasks_per_Hour (e.g., \"Alex Brown,\" 2.5 tasks/hour).\n",
        "\n",
        "Compare their Performance_Rating (e.g., 4.8/5).\n",
        "\n",
        "Recommendations:\n",
        "\n",
        "Reward high-PEI employees to retain top talent.\n",
        "\n",
        "Investigate IT’s consistency for best practices.\n",
        "\n",
        "Redistribute workload for underutilized high performers.\n",
        "\n",
        "Tools Used: Excel/Google Sheets (SORT, FILTER, STDEV.P, CORREL, INDEX-MATCH).\n",
        "\n",
        "Note: Replace placeholder names/values with actual data from the dataset. Visualizations (bar chart, scatter plot) should be included for clarity.\n"
      ],
      "metadata": {
        "id": "QOyYsMp7RXUp"
      }
    }
  ]
}